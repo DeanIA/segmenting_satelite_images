{
 "cells": [
  {
   "cell_type": "markdown",
   "id": "1f993ab2",
   "metadata": {},
   "source": [
    "# Check thresholds\n",
    "Running this CLI will run the SESSRS algorithm, comparing the overlay of SAM mask and Semantic masks, calculating the accuracy scores for different thresholds. "
   ]
  },
  {
   "cell_type": "code",
   "execution_count": null,
   "id": "c4fe867a",
   "metadata": {
    "vscode": {
     "languageId": "plaintext"
    }
   },
   "outputs": [],
   "source": [
    "!python SESSRS/sessrs_t1_t2.py -s samhq -m modify -n 64"
   ]
  },
  {
   "cell_type": "markdown",
   "id": "3cfafb61",
   "metadata": {},
   "source": [
    "## Get best thresholds \n",
    "Once you've generated the results for the different threshold combinations, this code will find the best threshold values for future inference. "
   ]
  },
  {
   "cell_type": "code",
   "execution_count": null,
   "id": "d5146e99",
   "metadata": {},
   "outputs": [],
   "source": [
    "import sys\n",
    "sys.path.append('SESSRS')\n",
    "from get_best_t1_t2 import test_category\n",
    "\n",
    "# Update this path to match your actual output file\n",
    "best_thresholds_file = 'GeoSeg/fig_results/Urban/sessrs_contrast_0.7/modify_sessrs_samhq_t1_t2_all.txt'\n",
    "\n",
    "# Get and display the best thresholds\n",
    "best_thresholds = test_category(best_thresholds_file)\n",
    "import pandas as pd\n",
    "pd.DataFrame(best_thresholds)"
   ]
  }
 ],
 "metadata": {
  "language_info": {
   "name": "python"
  }
 },
 "nbformat": 4,
 "nbformat_minor": 5
}
