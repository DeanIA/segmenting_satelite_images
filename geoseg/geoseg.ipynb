{
 "cells": [
  {
   "cell_type": "markdown",
   "id": "948df5b0",
   "metadata": {},
   "source": [
    "# GeoSeg Inference "
   ]
  },
  {
   "cell_type": "code",
   "execution_count": null,
   "id": "a769e09a",
   "metadata": {},
   "outputs": [],
   "source": [
    "import os as os\n",
    "import numpy as np\n",
    "import torch\n",
    "from torch import nn\n",
    "from torch.utils.data import DataLoader\n",
    "\n",
    "from models.DCSwin import *\n",
    "from data_processing.Urban_dataset import *\n",
    "from data_processing.transform import *"
   ]
  },
  {
   "cell_type": "markdown",
   "id": "890f5dbe",
   "metadata": {},
   "source": [
    "## Load dataset"
   ]
  },
  {
   "cell_type": "code",
   "execution_count": null,
   "id": "eb440e0c",
   "metadata": {},
   "outputs": [],
   "source": [
    "data_root = \"/Users/dean/code/geospatial/sat_stuff/dcswin_sam_sessrs/geoseg/data/Urban/train\" # LoveDA test data root\n",
    "n_classes = 7 \n",
    "\n",
    "# Define device\n",
    "gpu_index = 0\n",
    "device = torch.device(f\"cuda:{gpu_index}\" if torch.cuda.is_available() else \"cpu\")\n",
    "print(device)\n",
    "\n",
    "# Dataset + loader with pin_memory\n",
    "infer_dataset = UrbanDataset(data_root=data_root,\n",
    "                                mode='test',\n",
    "                                augmentation=train_aug) # Might want to check val_aug\n",
    "\n",
    "infer_loader = DataLoader(infer_dataset,\n",
    "                                batch_size=1,\n",
    "                                shuffle=False,\n",
    "                                num_workers=4,\n",
    "                                pin_memory=True) # True when running on cuda"
   ]
  },
  {
   "cell_type": "code",
   "execution_count": null,
   "id": "f102c1f4",
   "metadata": {},
   "outputs": [],
   "source": []
  },
  {
   "cell_type": "markdown",
   "id": "303b52b3",
   "metadata": {},
   "source": [
    "## Load the model"
   ]
  },
  {
   "cell_type": "code",
   "execution_count": null,
   "id": "f8f0e9ae",
   "metadata": {},
   "outputs": [],
   "source": [
    "# Model\n",
    "model = dcswin_tiny(pretrained=True, num_classes=n_classes, weight_path='/Users/dean/code/geospatial/sat_stuff/dcswin_sam_sessrs/geoseg/models/ckpt/stseg_tiny.pth')\n",
    "model.to(device)\n",
    "model.eval()"
   ]
  },
  {
   "cell_type": "markdown",
   "id": "7d9cbf24",
   "metadata": {},
   "source": [
    "## Create masks! "
   ]
  },
  {
   "cell_type": "code",
   "execution_count": null,
   "id": "6e72c182",
   "metadata": {},
   "outputs": [],
   "source": [
    "# True saves RGB masks for visualization\n",
    "# False saves indexed PNG for SESSRS\n",
    "rgb_output = True \n",
    "\n",
    "output_path = \"data/output_masks_loveda\" # base output folder\n",
    "\n",
    "# Make output dirs\n",
    "os.makedirs(os.path.join(output_path, 'pre_rgb'), exist_ok=True)\n",
    "os.makedirs(os.path.join(output_path, 'pre_p'), exist_ok=True)\n",
    "\n",
    "with torch.no_grad():\n",
    "    for idx, batch in enumerate(infer_loader):\n",
    "        img = batch['img'].to(device)\n",
    "        logits   = model(img)                           # (1, C, H, W)\n",
    "        probs    = nn.Softmax(dim=1)(logits)\n",
    "        mask     = probs.argmax(dim=1).squeeze(0)       # (H, W) tensor\n",
    "        mask_np  = mask.cpu().numpy().astype(np.uint8)\n",
    "        mask_name = f\"mask_{idx}\"      # pass name without “.png”\n",
    "        img_writer((mask_np, output_path, mask_name, rgb_output))"
   ]
  }
 ],
 "metadata": {
  "kernelspec": {
   "display_name": "env_SESSRS_GeoSeg",
   "language": "python",
   "name": "python3"
  },
  "language_info": {
   "codemirror_mode": {
    "name": "ipython",
    "version": 3
   },
   "file_extension": ".py",
   "mimetype": "text/x-python",
   "name": "python",
   "nbconvert_exporter": "python",
   "pygments_lexer": "ipython3",
   "version": "3.8.20"
  }
 },
 "nbformat": 4,
 "nbformat_minor": 5
}
